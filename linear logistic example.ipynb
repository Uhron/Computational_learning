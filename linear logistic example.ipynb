{
 "cells": [
  {
   "cell_type": "code",
   "execution_count": 2,
   "metadata": {
    "collapsed": false
   },
   "outputs": [
    {
     "name": "stdout",
     "output_type": "stream",
     "text": [
      "Dimensionalitat de X (698, 9)\n"
     ]
    }
   ],
   "source": [
    "from sklearn.preprocessing import StandardScaler\n",
    "import numpy as np\n",
    "%matplotlib inline\n",
    "from matplotlib import pyplot as plt\n",
    "import pandas as pn\n",
    "import seaborn as sns\n",
    "import warnings\n",
    "warnings.filterwarnings('ignore')\n",
    "\n",
    "#warnings.ignore\n",
    "\n",
    "# Función para elegir los datos xlsx\n",
    "# Cargamos los datos de la base de datos\n",
    "f = pn.read_csv('breast-cancer-wisconsin.csv',header =0)\n",
    "\n",
    "#cargar las dimensiones de X (diferentes columnas) en 'x', y los outputs en 'y'\n",
    "xi = []\n",
    "x = f.iloc[:,:-2].values\n",
    "y = f.iloc[:,-2:].values\n",
    "\n",
    "for i in range(0, x.shape[1]):\n",
    "    xi.append(f.iloc[:,i].values)\n",
    "    \n",
    "y1 = f.iloc[:,-1].values\n",
    "y2 = f.iloc[:,-2].values\n",
    "\n",
    "print(\"Dimensionalitat de X\", x.shape)\n"
   ]
  },
  {
   "cell_type": "code",
   "execution_count": 3,
   "metadata": {
    "collapsed": false
   },
   "outputs": [
    {
     "data": {
      "text/plain": [
       "(array([578.,  35.,  33.,  12.,   6.,   3.,   9.,   8.,   0.,  14.]),\n",
       " array([ 1. ,  1.9,  2.8,  3.7,  4.6,  5.5,  6.4,  7.3,  8.2,  9.1, 10. ]),\n",
       " <a list of 10 Patch objects>)"
      ]
     },
     "execution_count": 3,
     "metadata": {},
     "output_type": "execute_result"
    },
    {
     "data": {
      "image/png": "[encoded data removed]",
      "text/plain": [
       "<Figure size 864x360 with 1 Axes>"
      ]
     },
     "metadata": {},
     "output_type": "display_data"
    }
   ],
   "source": [
    "#rc parametros para los plots\n",
    "plt.rc('text', usetex = True)\n",
    "plt.rc('font', family = 'times')\n",
    "plt.rc('xtick', labelsize = 10) \n",
    "plt.rc('ytick', labelsize = 10) \n",
    "plt.rc('font', size = 12) \n",
    "plt.rc('figure', figsize = (12, 5))\n",
    "\n",
    "#parametros para los plots con seaborn\n",
    "sns.set_style(\"whitegrid\")\n",
    "sns.set_context(\"notebook\", font_scale = 1, rc = {\"lines.linewidth\": 2, 'font_family': [u'times']})\n",
    "\n",
    "plt.rcParams[\"text.usetex\"] = False\n",
    "\n",
    "#historama de y1 e y2\n",
    "plt.hist(y1, color=\"green\", alpha=0.8) \n",
    "plt.hist(y2, color=\"black\", alpha=0.6) "
   ]
  }
 ],
 "metadata": {
  "kernelspec": {
   "display_name": "Python 3",
   "language": "python",
   "name": "python3"
  },
  "language_info": {
   "codemirror_mode": {
    "name": "ipython",
    "version": 3
   },
   "file_extension": ".py",
   "mimetype": "text/x-python",
   "name": "python",
   "nbconvert_exporter": "python",
   "pygments_lexer": "ipython3",
   "version": "3.6.3"
  }
 },
 "nbformat": 4,
 "nbformat_minor": 2
}
